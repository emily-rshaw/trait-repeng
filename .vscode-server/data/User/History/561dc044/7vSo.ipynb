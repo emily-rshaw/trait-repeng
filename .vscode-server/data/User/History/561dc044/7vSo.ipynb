{
 "cells": [
  {
   "cell_type": "code",
   "execution_count": null,
   "metadata": {},
   "outputs": [
    {
     "name": "stdout",
     "output_type": "stream",
     "text": [
      "zsh:1: command not found: huggingface-cli\n"
     ]
    }
   ],
   "source": [
    "!huggingface-cli download bartowski/Mistral-Small-24B-Instruct-2501-GGUF \\\n",
    "  --include \"Mistral-Small-24B-Instruct-2501-Q6_K.gguf\" \\\n",
    "  --local-dir ./models/mistral_Q6KL"
   ]
  }
 ],
 "metadata": {
  "language_info": {
   "name": "python"
  }
 },
 "nbformat": 4,
 "nbformat_minor": 2
}

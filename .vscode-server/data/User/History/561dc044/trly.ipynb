{
 "cells": [
  {
   "cell_type": "code",
   "execution_count": null,
   "metadata": {
    "vscode": {
     "languageId": "plaintext"
    }
   },
   "outputs": [],
   "source": [
    "!huggingface-cli download bartowski/Mistral-Small-24B-Instruct-2501-GGUF \\\n",
    "  --include \"Mistral-Small-24B-Instruct-2501-Q6_K_L.gguf\" \\\n",
    "  --local-dir ./models/mistral_Q6KL"
   ]
  }
 ],
 "metadata": {
  "language_info": {
   "name": "python"
  }
 },
 "nbformat": 4,
 "nbformat_minor": 2
}
